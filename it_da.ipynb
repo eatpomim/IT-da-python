{
  "nbformat": 4,
  "nbformat_minor": 0,
  "metadata": {
    "colab": {
      "provenance": [],
      "collapsed_sections": []
    },
    "kernelspec": {
      "name": "python3",
      "display_name": "Python 3"
    },
    "language_info": {
      "name": "python"
    }
  },
  "cells": [
    {
      "cell_type": "code",
      "execution_count": null,
      "metadata": {
        "colab": {
          "base_uri": "https://localhost:8080/"
        },
        "id": "csiyi1Rspsd-",
        "outputId": "850e61ac-972f-414c-fef1-b4b25cc095a8"
      },
      "outputs": [
        {
          "output_type": "stream",
          "name": "stdout",
          "text": [
            "Hello world\n",
            "Hello world\n"
          ]
        }
      ],
      "source": [
        "#unit3\n",
        "print('Hello world')\n",
        "print('Hello world')"
      ]
    },
    {
      "cell_type": "markdown",
      "source": [
        "## unit4"
      ],
      "metadata": {
        "id": "LZ47HlhJW070"
      }
    },
    {
      "cell_type": "markdown",
      "source": [
        "4.1"
      ],
      "metadata": {
        "id": "YFHtlQUAsLQM"
      }
    },
    {
      "cell_type": "code",
      "source": [
        "#unit4\n",
        "print('hello');print('hi')"
      ],
      "metadata": {
        "colab": {
          "base_uri": "https://localhost:8080/"
        },
        "id": "1m1NZaYVsO24",
        "outputId": "770fba0a-8065-46c0-c3f0-024e5d1515f7"
      },
      "execution_count": null,
      "outputs": [
        {
          "output_type": "stream",
          "name": "stdout",
          "text": [
            "hello\n",
            "hi\n"
          ]
        }
      ]
    },
    {
      "cell_type": "code",
      "source": [],
      "metadata": {
        "id": "_i0GNjicsUcO"
      },
      "execution_count": null,
      "outputs": []
    },
    {
      "cell_type": "markdown",
      "source": [
        "4.3 들여쓰기\n",
        "\n",
        "\n",
        "1.   공백2칸\n",
        "2.  공백4칸\n",
        "3.  탭한칸"
      ],
      "metadata": {
        "id": "aJOABKkRtDeg"
      }
    },
    {
      "cell_type": "code",
      "source": [
        "a=10\n",
        "if a==10:\n",
        "  print('10입니다.')\n",
        "if a==10:\n",
        "    print('10입니다.')\n",
        "if a==10:\n",
        "  print('10입니다.')"
      ],
      "metadata": {
        "colab": {
          "base_uri": "https://localhost:8080/"
        },
        "id": "wAiAX-fMtHCS",
        "outputId": "c673cddd-c34b-4e38-d34c-0da9e608682e"
      },
      "execution_count": null,
      "outputs": [
        {
          "output_type": "stream",
          "name": "stdout",
          "text": [
            "10입니다.\n",
            "10입니다.\n",
            "10입니다.\n"
          ]
        }
      ]
    },
    {
      "cell_type": "markdown",
      "source": [
        "### unit5\n"
      ],
      "metadata": {
        "id": "G7uUitwhuHmZ"
      }
    },
    {
      "cell_type": "code",
      "source": [],
      "metadata": {
        "id": "iEWhNSxKuRpJ"
      },
      "execution_count": null,
      "outputs": []
    },
    {
      "cell_type": "markdown",
      "source": [
        "사칙연산"
      ],
      "metadata": {
        "id": "KHZFCK8xuUiL"
      }
    },
    {
      "cell_type": "code",
      "source": [
        "1+1\n",
        "4-2\n",
        "5*2\n",
        "5/2\n",
        "5//2"
      ],
      "metadata": {
        "colab": {
          "base_uri": "https://localhost:8080/"
        },
        "id": "mn2d01reuVpL",
        "outputId": "95b06074-4d9e-4422-ba7b-9d77c022c96c"
      },
      "execution_count": null,
      "outputs": [
        {
          "output_type": "execute_result",
          "data": {
            "text/plain": [
              "2.5"
            ]
          },
          "metadata": {},
          "execution_count": 6
        }
      ]
    },
    {
      "cell_type": "markdown",
      "source": [
        "5.5 연습문제: 아파트에서 소음이 가장 심한 층수 출력하기"
      ],
      "metadata": {
        "id": "u252HUW-WG8V"
      }
    },
    {
      "cell_type": "code",
      "source": [
        "m=12\n",
        "floor=int(0.2467 * m + 4.159)\n",
        "print(floor)"
      ],
      "metadata": {
        "colab": {
          "base_uri": "https://localhost:8080/"
        },
        "id": "zYcf-uSTWMEQ",
        "outputId": "50094e85-a92d-4cc3-fe2a-320d569a9ad7"
      },
      "execution_count": null,
      "outputs": [
        {
          "output_type": "stream",
          "name": "stdout",
          "text": [
            "7\n"
          ]
        }
      ]
    },
    {
      "cell_type": "markdown",
      "source": [
        "## unit6"
      ],
      "metadata": {
        "id": "kgvlDJCDWp4l"
      }
    },
    {
      "cell_type": "code",
      "source": [
        "x=123\n",
        "y='hello'\n",
        "type(x)\n",
        "type(y)\n"
      ],
      "metadata": {
        "colab": {
          "base_uri": "https://localhost:8080/"
        },
        "id": "noB21wl4WXfx",
        "outputId": "1141eefb-9028-49e9-b0fd-8a263bf9067f"
      },
      "execution_count": null,
      "outputs": [
        {
          "output_type": "execute_result",
          "data": {
            "text/plain": [
              "int"
            ]
          },
          "metadata": {},
          "execution_count": 8
        }
      ]
    },
    {
      "cell_type": "code",
      "source": [
        "x=y=z=10\n",
        "x\n",
        "y\n",
        "z"
      ],
      "metadata": {
        "colab": {
          "base_uri": "https://localhost:8080/"
        },
        "id": "oq_mlRyjXD1K",
        "outputId": "12d4e165-7acf-41c0-db4d-27ff3bc2abd6"
      },
      "execution_count": null,
      "outputs": [
        {
          "output_type": "execute_result",
          "data": {
            "text/plain": [
              "10"
            ]
          },
          "metadata": {},
          "execution_count": 10
        }
      ]
    },
    {
      "cell_type": "code",
      "source": [
        "del x\n",
        "x"
      ],
      "metadata": {
        "colab": {
          "base_uri": "https://localhost:8080/",
          "height": 190
        },
        "id": "1C-kZGLmY5pb",
        "outputId": "2442e8e0-2ec9-455e-f8f9-89ea61eb3914"
      },
      "execution_count": null,
      "outputs": [
        {
          "output_type": "error",
          "ename": "NameError",
          "evalue": "ignored",
          "traceback": [
            "\u001b[0;31m---------------------------------------------------------------------------\u001b[0m",
            "\u001b[0;31mNameError\u001b[0m                                 Traceback (most recent call last)",
            "\u001b[0;32m<ipython-input-11-1beca76b84e9>\u001b[0m in \u001b[0;36m<module>\u001b[0;34m\u001b[0m\n\u001b[1;32m      1\u001b[0m \u001b[0;32mdel\u001b[0m \u001b[0mx\u001b[0m\u001b[0;34m\u001b[0m\u001b[0;34m\u001b[0m\u001b[0m\n\u001b[0;32m----> 2\u001b[0;31m \u001b[0mx\u001b[0m\u001b[0;34m\u001b[0m\u001b[0;34m\u001b[0m\u001b[0m\n\u001b[0m",
            "\u001b[0;31mNameError\u001b[0m: name 'x' is not defined"
          ]
        }
      ]
    },
    {
      "cell_type": "code",
      "source": [
        "x=None\n",
        "print(x)\n",
        "x"
      ],
      "metadata": {
        "colab": {
          "base_uri": "https://localhost:8080/"
        },
        "id": "TyWH_p0GbHIb",
        "outputId": "e3777995-f86c-4fac-f9df-477bada122ed"
      },
      "execution_count": null,
      "outputs": [
        {
          "output_type": "stream",
          "name": "stdout",
          "text": [
            "None\n"
          ]
        }
      ]
    },
    {
      "cell_type": "code",
      "source": [
        "a=10\n",
        "a+20"
      ],
      "metadata": {
        "colab": {
          "base_uri": "https://localhost:8080/"
        },
        "id": "41j0JzCebPV0",
        "outputId": "9a047397-932c-4b3a-ba1d-258606559a99"
      },
      "execution_count": null,
      "outputs": [
        {
          "output_type": "execute_result",
          "data": {
            "text/plain": [
              "30"
            ]
          },
          "metadata": {},
          "execution_count": 14
        }
      ]
    },
    {
      "cell_type": "code",
      "source": [
        "a+=10\n",
        "a"
      ],
      "metadata": {
        "colab": {
          "base_uri": "https://localhost:8080/"
        },
        "id": "cgBLUAjMbhuN",
        "outputId": "f5e71c96-5610-45f0-fd7b-4619a45fb669"
      },
      "execution_count": null,
      "outputs": [
        {
          "output_type": "execute_result",
          "data": {
            "text/plain": [
              "20"
            ]
          },
          "metadata": {},
          "execution_count": 15
        }
      ]
    },
    {
      "cell_type": "code",
      "source": [
        "input()"
      ],
      "metadata": {
        "colab": {
          "base_uri": "https://localhost:8080/",
          "height": 54
        },
        "id": "KMPts8O_b4gw",
        "outputId": "6d6d34f4-76c2-4b21-d15b-dc711440b821"
      },
      "execution_count": null,
      "outputs": [
        {
          "name": "stdout",
          "output_type": "stream",
          "text": [
            "ff\n"
          ]
        },
        {
          "output_type": "execute_result",
          "data": {
            "text/plain": [
              "'ff'"
            ],
            "application/vnd.google.colaboratory.intrinsic+json": {
              "type": "string"
            }
          },
          "metadata": {},
          "execution_count": 16
        }
      ]
    },
    {
      "cell_type": "code",
      "source": [
        "a=int(input('첫 번째 숫자를 입력하세요:'))\n",
        "a"
      ],
      "metadata": {
        "colab": {
          "base_uri": "https://localhost:8080/"
        },
        "id": "VvRIk9B0cApd",
        "outputId": "81edcd50-e4c8-4586-d397-d710de978c3f"
      },
      "execution_count": null,
      "outputs": [
        {
          "name": "stdout",
          "output_type": "stream",
          "text": [
            "첫 번째 숫자를 입력하세요:3\n"
          ]
        },
        {
          "output_type": "execute_result",
          "data": {
            "text/plain": [
              "3"
            ]
          },
          "metadata": {},
          "execution_count": 17
        }
      ]
    },
    {
      "cell_type": "code",
      "source": [
        "a,b=input('문자열 두개를 입력하세요: ').split()\n",
        "\n",
        "print(a)\n",
        "print(b)\n",
        "print(a+b)"
      ],
      "metadata": {
        "colab": {
          "base_uri": "https://localhost:8080/"
        },
        "id": "XW49WIDEca8P",
        "outputId": "c00b8ad1-3b8a-4c24-94e6-d76aa2dcc219"
      },
      "execution_count": null,
      "outputs": [
        {
          "output_type": "stream",
          "name": "stdout",
          "text": [
            "문자열 두개를 입력하세요: 3 4\n",
            "3\n",
            "4\n",
            "34\n"
          ]
        }
      ]
    },
    {
      "cell_type": "code",
      "source": [
        "a, b = map(int, input('숫자 두 개를 입력하세요: ').split())\n",
        " \n",
        "print(a + b)"
      ],
      "metadata": {
        "colab": {
          "base_uri": "https://localhost:8080/"
        },
        "id": "09a-8hO2c59T",
        "outputId": "7dce527e-3605-4a6c-9836-2eb0a09b64b4"
      },
      "execution_count": null,
      "outputs": [
        {
          "output_type": "stream",
          "name": "stdout",
          "text": [
            "숫자 두 개를 입력하세요: 3 5\n",
            "8\n"
          ]
        }
      ]
    },
    {
      "cell_type": "code",
      "source": [
        "a, b, c = map(int, input().split())\n",
        "print(a+b+c)"
      ],
      "metadata": {
        "colab": {
          "base_uri": "https://localhost:8080/"
        },
        "id": "hQmCpjzMc_-9",
        "outputId": "809e776d-8da3-4f01-d7a6-bbe8fd02a42f"
      },
      "execution_count": null,
      "outputs": [
        {
          "output_type": "stream",
          "name": "stdout",
          "text": [
            "-10 20 30\n",
            "40\n"
          ]
        }
      ]
    },
    {
      "cell_type": "code",
      "source": [],
      "metadata": {
        "id": "e4qvzuhmdNFi"
      },
      "execution_count": null,
      "outputs": []
    },
    {
      "cell_type": "markdown",
      "source": [
        "### unit7"
      ],
      "metadata": {
        "id": "WAslVR8CdWCq"
      }
    },
    {
      "cell_type": "code",
      "source": [
        "print(1, 2, 3, sep=', ')    # sep에 콤마와 공백을 지정\n",
        "print(4, 5, 6, sep=',')    # sep에 콤마만 지정\n",
        "print('Hello', 'Python', sep='')    # sep에 빈 문자열을 지정\n",
        "print(1920, 1080, sep='x')    # sep에 x를 지정\n"
      ],
      "metadata": {
        "colab": {
          "base_uri": "https://localhost:8080/"
        },
        "id": "Pk4uQUXRdaW_",
        "outputId": "1c5dc3a7-9606-448e-9644-613b633fc9f2"
      },
      "execution_count": null,
      "outputs": [
        {
          "output_type": "stream",
          "name": "stdout",
          "text": [
            "1, 2, 3\n",
            "4,5,6\n",
            "HelloPython\n",
            "1920x1080\n"
          ]
        }
      ]
    },
    {
      "cell_type": "code",
      "source": [
        "print(1, 2, 3, sep='\\n')\n"
      ],
      "metadata": {
        "colab": {
          "base_uri": "https://localhost:8080/"
        },
        "id": "M1Kytq4_ghgw",
        "outputId": "92c3f007-a43b-4c5e-f52a-0ce4f0e49e21"
      },
      "execution_count": null,
      "outputs": [
        {
          "output_type": "stream",
          "name": "stdout",
          "text": [
            "1\n",
            "2\n",
            "3\n"
          ]
        }
      ]
    },
    {
      "cell_type": "code",
      "source": [
        "print('1\\n2\\n3')  "
      ],
      "metadata": {
        "colab": {
          "base_uri": "https://localhost:8080/"
        },
        "id": "ghstY-vMLQf4",
        "outputId": "9b4810f5-f8f9-4582-d167-621c01ab53d0"
      },
      "execution_count": null,
      "outputs": [
        {
          "output_type": "stream",
          "name": "stdout",
          "text": [
            "1\n",
            "2\n",
            "3\n"
          ]
        }
      ]
    },
    {
      "cell_type": "code",
      "source": [
        "print(1, end='') \n",
        "print(2, end='')\n",
        "print(3)"
      ],
      "metadata": {
        "colab": {
          "base_uri": "https://localhost:8080/"
        },
        "id": "6QshD45BLQ3U",
        "outputId": "6eb8b936-4063-4cf5-cbc9-b9c72f3741aa"
      },
      "execution_count": null,
      "outputs": [
        {
          "output_type": "stream",
          "name": "stdout",
          "text": [
            "123\n"
          ]
        }
      ]
    },
    {
      "cell_type": "code",
      "source": [
        "year = 2000\n",
        "month = 10\n",
        "day = 27\n",
        "hour = 11\n",
        "minute = 43\n",
        "second = 59\n",
        " \n",
        "print(year, month, day, sep='/', end=' ')\n",
        "print(hour, minute, second,sep=':')"
      ],
      "metadata": {
        "colab": {
          "base_uri": "https://localhost:8080/"
        },
        "id": "gIFZX8rpLZy5",
        "outputId": "5dc425bc-09f9-4363-96df-f8dfe8b932ec"
      },
      "execution_count": null,
      "outputs": [
        {
          "output_type": "stream",
          "name": "stdout",
          "text": [
            "2000/10/27 11:43:59\n"
          ]
        }
      ]
    },
    {
      "cell_type": "markdown",
      "source": [
        "## unit8"
      ],
      "metadata": {
        "id": "Ru2n63RzMWWU"
      }
    },
    {
      "cell_type": "code",
      "source": [
        "5>3"
      ],
      "metadata": {
        "colab": {
          "base_uri": "https://localhost:8080/"
        },
        "id": "MGn1S8BOLhRM",
        "outputId": "8de0d658-2a95-4f5a-ddb8-351b6bf005ac"
      },
      "execution_count": null,
      "outputs": [
        {
          "output_type": "execute_result",
          "data": {
            "text/plain": [
              "True"
            ]
          },
          "metadata": {},
          "execution_count": 6
        }
      ]
    },
    {
      "cell_type": "code",
      "source": [
        "10!=3"
      ],
      "metadata": {
        "colab": {
          "base_uri": "https://localhost:8080/"
        },
        "id": "aJTxDGwmMb0y",
        "outputId": "353c7b1a-0679-4aee-c25e-5ca92fbdc3ef"
      },
      "execution_count": null,
      "outputs": [
        {
          "output_type": "execute_result",
          "data": {
            "text/plain": [
              "True"
            ]
          },
          "metadata": {},
          "execution_count": 7
        }
      ]
    },
    {
      "cell_type": "code",
      "source": [
        "1 is 1.0"
      ],
      "metadata": {
        "colab": {
          "base_uri": "https://localhost:8080/"
        },
        "id": "9cAkAP1EMd2Z",
        "outputId": "6dffbe8f-2472-4d9f-f74e-aef3897b84d3"
      },
      "execution_count": null,
      "outputs": [
        {
          "output_type": "execute_result",
          "data": {
            "text/plain": [
              "False"
            ]
          },
          "metadata": {},
          "execution_count": 8
        }
      ]
    },
    {
      "cell_type": "code",
      "source": [
        "1 is not 1.0"
      ],
      "metadata": {
        "colab": {
          "base_uri": "https://localhost:8080/"
        },
        "id": "CSCqYSyhMkG2",
        "outputId": "9a8340e4-c49c-445f-a2c2-80b8888b73ad"
      },
      "execution_count": null,
      "outputs": [
        {
          "output_type": "execute_result",
          "data": {
            "text/plain": [
              "True"
            ]
          },
          "metadata": {},
          "execution_count": 9
        }
      ]
    },
    {
      "cell_type": "code",
      "source": [
        "not True and False or not False"
      ],
      "metadata": {
        "colab": {
          "base_uri": "https://localhost:8080/"
        },
        "id": "bYb6N_WOMl1Z",
        "outputId": "c5c69121-ef05-4ecc-d4b5-474f59578bc1"
      },
      "execution_count": null,
      "outputs": [
        {
          "output_type": "execute_result",
          "data": {
            "text/plain": [
              "True"
            ]
          },
          "metadata": {},
          "execution_count": 10
        }
      ]
    },
    {
      "cell_type": "code",
      "source": [
        "korean = 92\n",
        "english = 47\n",
        "mathematics = 86\n",
        "science = 81\n",
        "\n",
        "print(korean >= 50 and english >= 50 and mathematics >= 50 and science >= 50)"
      ],
      "metadata": {
        "colab": {
          "base_uri": "https://localhost:8080/"
        },
        "id": "78nL6u4bMtOs",
        "outputId": "74fc3b9b-32fe-41e6-8be3-8a659d064c27"
      },
      "execution_count": null,
      "outputs": [
        {
          "output_type": "stream",
          "name": "stdout",
          "text": [
            "False\n"
          ]
        }
      ]
    },
    {
      "cell_type": "markdown",
      "source": [
        "## unit8"
      ],
      "metadata": {
        "id": "AAvef5Y6M7Z0"
      }
    },
    {
      "cell_type": "code",
      "source": [
        "hello = '''Hello, Python!'''\n",
        "hello"
      ],
      "metadata": {
        "colab": {
          "base_uri": "https://localhost:8080/",
          "height": 35
        },
        "id": "EPWhROrwM9MT",
        "outputId": "d02cb9f3-5784-4ec3-943a-e6705832c9b8"
      },
      "execution_count": null,
      "outputs": [
        {
          "output_type": "execute_result",
          "data": {
            "text/plain": [
              "'Hello, Python!'"
            ],
            "application/vnd.google.colaboratory.intrinsic+json": {
              "type": "string"
            }
          },
          "metadata": {},
          "execution_count": 12
        }
      ]
    },
    {
      "cell_type": "code",
      "source": [
        "hello = '''Hello, world!\n",
        "안녕하세요.\n",
        "Python입니다.'''\n",
        "hello"
      ],
      "metadata": {
        "colab": {
          "base_uri": "https://localhost:8080/",
          "height": 35
        },
        "id": "-2Uf4R80NIxA",
        "outputId": "2b6b9671-d233-459e-9557-1be4fc05793a"
      },
      "execution_count": null,
      "outputs": [
        {
          "output_type": "execute_result",
          "data": {
            "text/plain": [
              "'Hello, world!\\n안녕하세요.\\nPython입니다.'"
            ],
            "application/vnd.google.colaboratory.intrinsic+json": {
              "type": "string"
            }
          },
          "metadata": {},
          "execution_count": 13
        }
      ]
    },
    {
      "cell_type": "code",
      "source": [
        "single_quote = '''\"안녕하세요.\"\n",
        "'파이썬'입니다.'''\n",
        " \n",
        "double_quote1 = \"\"\"\"Hello\"\n",
        "'Python'\"\"\"\n",
        " \n",
        "double_quote2 = \"\"\"Hello, 'Python'\"\"\"\n",
        " \n",
        "print(single_quote)\n",
        "print(double_quote1)\n",
        "print(double_quote2)"
      ],
      "metadata": {
        "colab": {
          "base_uri": "https://localhost:8080/"
        },
        "id": "mCHDpwC4NbF3",
        "outputId": "e73998c9-4965-48fc-f6cc-12072b8fa88e"
      },
      "execution_count": null,
      "outputs": [
        {
          "output_type": "stream",
          "name": "stdout",
          "text": [
            "\"안녕하세요.\"\n",
            "'파이썬'입니다.\n",
            "\"Hello\"\n",
            "'Python'\n",
            "Hello, 'Python'\n"
          ]
        }
      ]
    },
    {
      "cell_type": "code",
      "source": [
        "'Python isn\\'t difficult'"
      ],
      "metadata": {
        "colab": {
          "base_uri": "https://localhost:8080/",
          "height": 35
        },
        "id": "SGXgG0FqNi3A",
        "outputId": "184434fc-7de3-492f-ca90-5c2da3b4ec53"
      },
      "execution_count": null,
      "outputs": [
        {
          "output_type": "execute_result",
          "data": {
            "text/plain": [
              "\"Python isn't difficult\""
            ],
            "application/vnd.google.colaboratory.intrinsic+json": {
              "type": "string"
            }
          },
          "metadata": {},
          "execution_count": 15
        }
      ]
    },
    {
      "cell_type": "code",
      "source": [
        "s=\"\"\"Python is a programming language that lets you work quickly\n",
        "and\n",
        "integrate systems more effectively.\"\"\"\n",
        "s"
      ],
      "metadata": {
        "colab": {
          "base_uri": "https://localhost:8080/",
          "height": 54
        },
        "id": "vGY0-WzCNlnM",
        "outputId": "bc7bfcf5-4d76-4842-a2bf-82f8e5dcea27"
      },
      "execution_count": null,
      "outputs": [
        {
          "output_type": "execute_result",
          "data": {
            "text/plain": [
              "'Python is a programming language that lets you work quickly\\nand\\nintegrate systems more effectively.'"
            ],
            "application/vnd.google.colaboratory.intrinsic+json": {
              "type": "string"
            }
          },
          "metadata": {},
          "execution_count": 17
        }
      ]
    },
    {
      "cell_type": "markdown",
      "source": [
        "## unit10"
      ],
      "metadata": {
        "id": "IPYIINYONz8g"
      }
    },
    {
      "cell_type": "code",
      "source": [
        "a = [38, 21, 53, 62, 19]\n",
        "a"
      ],
      "metadata": {
        "colab": {
          "base_uri": "https://localhost:8080/"
        },
        "id": "dU6WOj3kNrNv",
        "outputId": "343b2a88-ec90-427c-9754-3897c7463f47"
      },
      "execution_count": null,
      "outputs": [
        {
          "output_type": "execute_result",
          "data": {
            "text/plain": [
              "[38, 21, 53, 62, 19]"
            ]
          },
          "metadata": {},
          "execution_count": 19
        }
      ]
    },
    {
      "cell_type": "code",
      "source": [
        "person = ['james', 17, 175.3, True]\n",
        "person"
      ],
      "metadata": {
        "colab": {
          "base_uri": "https://localhost:8080/"
        },
        "id": "EVQI23yqNyyr",
        "outputId": "c9ab6b3f-aa02-4f3f-dfe8-604f1b836e23"
      },
      "execution_count": null,
      "outputs": [
        {
          "output_type": "execute_result",
          "data": {
            "text/plain": [
              "['james', 17, 175.3, True]"
            ]
          },
          "metadata": {},
          "execution_count": 18
        }
      ]
    },
    {
      "cell_type": "code",
      "source": [
        "a=[]\n",
        "b=list()\n",
        "a\n",
        "b"
      ],
      "metadata": {
        "colab": {
          "base_uri": "https://localhost:8080/"
        },
        "id": "O2oqYcdBN4Il",
        "outputId": "4531793c-4bb7-4c5c-d118-759fbe13be84"
      },
      "execution_count": null,
      "outputs": [
        {
          "output_type": "execute_result",
          "data": {
            "text/plain": [
              "[]"
            ]
          },
          "metadata": {},
          "execution_count": 20
        }
      ]
    },
    {
      "cell_type": "code",
      "source": [
        "range(10)"
      ],
      "metadata": {
        "colab": {
          "base_uri": "https://localhost:8080/"
        },
        "id": "gjMbJbQPOBUe",
        "outputId": "2a3dd3bb-8136-4d00-d88b-859b87b9665f"
      },
      "execution_count": null,
      "outputs": [
        {
          "output_type": "execute_result",
          "data": {
            "text/plain": [
              "range(0, 10)"
            ]
          },
          "metadata": {},
          "execution_count": 21
        }
      ]
    },
    {
      "cell_type": "code",
      "source": [
        "a = list(range(10))\n",
        "a"
      ],
      "metadata": {
        "colab": {
          "base_uri": "https://localhost:8080/"
        },
        "id": "CuTOrlzkN_5V",
        "outputId": "4dd58c16-a201-45eb-a398-ff7c8c5fb33d"
      },
      "execution_count": null,
      "outputs": [
        {
          "output_type": "execute_result",
          "data": {
            "text/plain": [
              "[0, 1, 2, 3, 4, 5, 6, 7, 8, 9]"
            ]
          },
          "metadata": {},
          "execution_count": 25
        }
      ]
    },
    {
      "cell_type": "code",
      "source": [
        "b = list(range(5, 12))\n",
        "b"
      ],
      "metadata": {
        "colab": {
          "base_uri": "https://localhost:8080/"
        },
        "id": "MceOEUMCOEAc",
        "outputId": "828bb7fa-82f6-4daa-bdb4-5e7c2f9d13ca"
      },
      "execution_count": null,
      "outputs": [
        {
          "output_type": "execute_result",
          "data": {
            "text/plain": [
              "[5, 6, 7, 8, 9, 10, 11]"
            ]
          },
          "metadata": {},
          "execution_count": 24
        }
      ]
    },
    {
      "cell_type": "code",
      "source": [
        "c = list(range(-4, 10, 2))\n",
        "c"
      ],
      "metadata": {
        "colab": {
          "base_uri": "https://localhost:8080/"
        },
        "id": "v8cgAVLyOFzK",
        "outputId": "8134c063-3fb2-4bd0-a489-45b57c975105"
      },
      "execution_count": null,
      "outputs": [
        {
          "output_type": "execute_result",
          "data": {
            "text/plain": [
              "[-4, -2, 0, 2, 4, 6, 8]"
            ]
          },
          "metadata": {},
          "execution_count": 27
        }
      ]
    },
    {
      "cell_type": "code",
      "source": [
        "d = list(range(10, 0, -1))\n",
        "d"
      ],
      "metadata": {
        "colab": {
          "base_uri": "https://localhost:8080/"
        },
        "id": "uuQ1qwASOJoR",
        "outputId": "94baafb7-41af-4541-e609-e6e8987606e9"
      },
      "execution_count": null,
      "outputs": [
        {
          "output_type": "execute_result",
          "data": {
            "text/plain": [
              "[10, 9, 8, 7, 6, 5, 4, 3, 2, 1]"
            ]
          },
          "metadata": {},
          "execution_count": 28
        }
      ]
    },
    {
      "cell_type": "code",
      "source": [
        "a = (38, 21, 53, 62, 19)\n",
        "a"
      ],
      "metadata": {
        "colab": {
          "base_uri": "https://localhost:8080/"
        },
        "id": "awvEpy4XOMmV",
        "outputId": "732173e6-6561-4484-e7f8-b2c4e70aff51"
      },
      "execution_count": null,
      "outputs": [
        {
          "output_type": "execute_result",
          "data": {
            "text/plain": [
              "(38, 21, 53, 62, 19)"
            ]
          },
          "metadata": {},
          "execution_count": 29
        }
      ]
    },
    {
      "cell_type": "code",
      "source": [
        "a = 38, 21, 53, 62, 19\n",
        "a"
      ],
      "metadata": {
        "colab": {
          "base_uri": "https://localhost:8080/"
        },
        "id": "c6J1cWZJOQrd",
        "outputId": "83aced3c-8af5-4122-877c-b3e469691c6d"
      },
      "execution_count": null,
      "outputs": [
        {
          "output_type": "execute_result",
          "data": {
            "text/plain": [
              "(38, 21, 53, 62, 19)"
            ]
          },
          "metadata": {},
          "execution_count": 31
        }
      ]
    },
    {
      "cell_type": "code",
      "source": [
        " f = tuple(range(10))\n",
        " f"
      ],
      "metadata": {
        "colab": {
          "base_uri": "https://localhost:8080/"
        },
        "id": "HGF0nPpaOSmN",
        "outputId": "02fe34c7-dff2-43f5-a66b-9699f05c3518"
      },
      "execution_count": null,
      "outputs": [
        {
          "output_type": "execute_result",
          "data": {
            "text/plain": [
              "(0, 1, 2, 3, 4, 5, 6, 7, 8, 9)"
            ]
          },
          "metadata": {},
          "execution_count": 32
        }
      ]
    },
    {
      "cell_type": "code",
      "source": [
        "r = tuple(range(5, 12))\n",
        "r"
      ],
      "metadata": {
        "colab": {
          "base_uri": "https://localhost:8080/"
        },
        "id": "3pBJ1KuGOV3G",
        "outputId": "f0a36a50-8c44-42f6-f54d-4d103df3bdff"
      },
      "execution_count": null,
      "outputs": [
        {
          "output_type": "execute_result",
          "data": {
            "text/plain": [
              "(5, 6, 7, 8, 9, 10, 11)"
            ]
          },
          "metadata": {},
          "execution_count": 34
        }
      ]
    },
    {
      "cell_type": "code",
      "source": [
        "c = tuple(range(-4, 10, 2))\n",
        "c"
      ],
      "metadata": {
        "colab": {
          "base_uri": "https://localhost:8080/"
        },
        "id": "G9XPD_o0OYEK",
        "outputId": "2b248d94-095d-463e-a2f7-07c54942fcf3"
      },
      "execution_count": null,
      "outputs": [
        {
          "output_type": "execute_result",
          "data": {
            "text/plain": [
              "(-4, -2, 0, 2, 4, 6, 8)"
            ]
          },
          "metadata": {},
          "execution_count": 35
        }
      ]
    },
    {
      "cell_type": "code",
      "source": [
        "a = [1, 2, 3]\n",
        "tuple(a)"
      ],
      "metadata": {
        "colab": {
          "base_uri": "https://localhost:8080/"
        },
        "id": "HC11t2TEOfKz",
        "outputId": "0814ae7b-c91e-49d4-91b9-d39ef6e99b12"
      },
      "execution_count": null,
      "outputs": [
        {
          "output_type": "execute_result",
          "data": {
            "text/plain": [
              "(1, 2, 3)"
            ]
          },
          "metadata": {},
          "execution_count": 36
        }
      ]
    },
    {
      "cell_type": "code",
      "source": [
        "b = (4, 5, 6)\n",
        "list(b)"
      ],
      "metadata": {
        "colab": {
          "base_uri": "https://localhost:8080/"
        },
        "id": "A9ZARdv8OkMw",
        "outputId": "ed7e15e4-6041-4865-df36-f94b78d2199e"
      },
      "execution_count": null,
      "outputs": [
        {
          "output_type": "execute_result",
          "data": {
            "text/plain": [
              "[4, 5, 6]"
            ]
          },
          "metadata": {},
          "execution_count": 37
        }
      ]
    },
    {
      "cell_type": "code",
      "source": [
        "a = list(range(5, -10, -2))\n",
        "a"
      ],
      "metadata": {
        "colab": {
          "base_uri": "https://localhost:8080/"
        },
        "id": "Xfa-9zxHOmUx",
        "outputId": "24e26e56-1e20-4caa-b74e-b3526d81bebc"
      },
      "execution_count": null,
      "outputs": [
        {
          "output_type": "execute_result",
          "data": {
            "text/plain": [
              "[5, 3, 1, -1, -3, -5, -7, -9]"
            ]
          },
          "metadata": {},
          "execution_count": 38
        }
      ]
    },
    {
      "cell_type": "markdown",
      "source": [
        "### unit11-시퀸스 자료형"
      ],
      "metadata": {
        "id": "fPaooJxzO7_8"
      }
    },
    {
      "cell_type": "code",
      "source": [
        "a = [0, 10, 20, 30, 40, 50, 60, 70, 80, 90]\n",
        "print(30 in a)\n",
        "print(100 in a)\n",
        "print(100 not in a)"
      ],
      "metadata": {
        "colab": {
          "base_uri": "https://localhost:8080/"
        },
        "id": "kXabYmnvO5fS",
        "outputId": "22199714-43d0-4ea6-9a8b-4f075f965c7b"
      },
      "execution_count": null,
      "outputs": [
        {
          "output_type": "stream",
          "name": "stdout",
          "text": [
            "True\n",
            "False\n",
            "True\n"
          ]
        }
      ]
    },
    {
      "cell_type": "code",
      "source": [
        "43 in (38, 76, 43, 62, 19)"
      ],
      "metadata": {
        "colab": {
          "base_uri": "https://localhost:8080/"
        },
        "id": "WLvPLHt3OqJs",
        "outputId": "4de242e1-c314-4c15-ae98-a6c42f175842"
      },
      "execution_count": null,
      "outputs": [
        {
          "output_type": "execute_result",
          "data": {
            "text/plain": [
              "True"
            ]
          },
          "metadata": {},
          "execution_count": 43
        }
      ]
    },
    {
      "cell_type": "code",
      "source": [
        "1 in range(10)"
      ],
      "metadata": {
        "colab": {
          "base_uri": "https://localhost:8080/"
        },
        "id": "4BFWa_K6PPw1",
        "outputId": "c69452ce-d02d-41c9-c16b-f0e2af14bc89"
      },
      "execution_count": null,
      "outputs": [
        {
          "output_type": "execute_result",
          "data": {
            "text/plain": [
              "True"
            ]
          },
          "metadata": {},
          "execution_count": 45
        }
      ]
    },
    {
      "cell_type": "code",
      "source": [
        "range(0, 10) + range(10, 20)"
      ],
      "metadata": {
        "colab": {
          "base_uri": "https://localhost:8080/",
          "height": 172
        },
        "id": "_VldtMM4PSUx",
        "outputId": "9bae3c17-ece5-4808-d973-f7e7fa1a3af0"
      },
      "execution_count": null,
      "outputs": [
        {
          "output_type": "error",
          "ename": "TypeError",
          "evalue": "ignored",
          "traceback": [
            "\u001b[0;31m---------------------------------------------------------------------------\u001b[0m",
            "\u001b[0;31mTypeError\u001b[0m                                 Traceback (most recent call last)",
            "\u001b[0;32m<ipython-input-46-9721dc5d56b1>\u001b[0m in \u001b[0;36m<module>\u001b[0;34m\u001b[0m\n\u001b[0;32m----> 1\u001b[0;31m \u001b[0mrange\u001b[0m\u001b[0;34m(\u001b[0m\u001b[0;36m0\u001b[0m\u001b[0;34m,\u001b[0m \u001b[0;36m10\u001b[0m\u001b[0;34m)\u001b[0m \u001b[0;34m+\u001b[0m \u001b[0mrange\u001b[0m\u001b[0;34m(\u001b[0m\u001b[0;36m10\u001b[0m\u001b[0;34m,\u001b[0m \u001b[0;36m20\u001b[0m\u001b[0;34m)\u001b[0m\u001b[0;34m\u001b[0m\u001b[0;34m\u001b[0m\u001b[0m\n\u001b[0m",
            "\u001b[0;31mTypeError\u001b[0m: unsupported operand type(s) for +: 'range' and 'range'"
          ]
        }
      ]
    },
    {
      "cell_type": "code",
      "source": [
        "list(range(0, 10)) + list(range(10, 20))"
      ],
      "metadata": {
        "colab": {
          "base_uri": "https://localhost:8080/"
        },
        "id": "6NalEApvPfik",
        "outputId": "cab772ac-3802-4023-920e-18d88edd726b"
      },
      "execution_count": null,
      "outputs": [
        {
          "output_type": "execute_result",
          "data": {
            "text/plain": [
              "[0, 1, 2, 3, 4, 5, 6, 7, 8, 9, 10, 11, 12, 13, 14, 15, 16, 17, 18, 19]"
            ]
          },
          "metadata": {},
          "execution_count": 47
        }
      ]
    },
    {
      "cell_type": "code",
      "source": [
        "a = [0, 10, 20, 30, 40, 50, 60, 70, 80, 90]\n",
        "len(a)"
      ],
      "metadata": {
        "colab": {
          "base_uri": "https://localhost:8080/"
        },
        "id": "BHIC1_AePiGm",
        "outputId": "78c6ffc7-3a2d-48e8-9fce-5c2ccda882fc"
      },
      "execution_count": null,
      "outputs": [
        {
          "output_type": "execute_result",
          "data": {
            "text/plain": [
              "10"
            ]
          },
          "metadata": {},
          "execution_count": 49
        }
      ]
    },
    {
      "cell_type": "code",
      "source": [
        "len(range(0, 10, 2))"
      ],
      "metadata": {
        "colab": {
          "base_uri": "https://localhost:8080/"
        },
        "id": "OSpdBN-vPpeP",
        "outputId": "ee4a9ac8-5812-428e-a899-a2cc020a26dc"
      },
      "execution_count": null,
      "outputs": [
        {
          "output_type": "execute_result",
          "data": {
            "text/plain": [
              "5"
            ]
          },
          "metadata": {},
          "execution_count": 50
        }
      ]
    },
    {
      "cell_type": "code",
      "source": [
        "hello = 'Hello, world!'\n",
        "len(hello)"
      ],
      "metadata": {
        "colab": {
          "base_uri": "https://localhost:8080/"
        },
        "id": "Cmqj39awPtjh",
        "outputId": "69827533-4c2a-48e3-de60-281c490a7f53"
      },
      "execution_count": null,
      "outputs": [
        {
          "output_type": "execute_result",
          "data": {
            "text/plain": [
              "13"
            ]
          },
          "metadata": {},
          "execution_count": 51
        }
      ]
    },
    {
      "cell_type": "code",
      "source": [
        "a = [38, 21, 53, 62, 19]\n",
        "a[0]"
      ],
      "metadata": {
        "colab": {
          "base_uri": "https://localhost:8080/"
        },
        "id": "8bUWc3HyPxR4",
        "outputId": "49c70d90-f880-46eb-a5e4-56c2b462aa01"
      },
      "execution_count": null,
      "outputs": [
        {
          "output_type": "execute_result",
          "data": {
            "text/plain": [
              "38"
            ]
          },
          "metadata": {},
          "execution_count": 52
        }
      ]
    },
    {
      "cell_type": "code",
      "source": [
        "b = (38, 21, 53, 62, 19)\n",
        "b[0]"
      ],
      "metadata": {
        "colab": {
          "base_uri": "https://localhost:8080/"
        },
        "id": "50_0sl7VP1kF",
        "outputId": "3b239045-8d16-4283-e208-c3fc29a58e52"
      },
      "execution_count": null,
      "outputs": [
        {
          "output_type": "execute_result",
          "data": {
            "text/plain": [
              "38"
            ]
          },
          "metadata": {},
          "execution_count": 53
        }
      ]
    },
    {
      "cell_type": "code",
      "source": [
        "r = range(0, 10, 2)\n",
        "r[2]"
      ],
      "metadata": {
        "colab": {
          "base_uri": "https://localhost:8080/"
        },
        "id": "qTHaLyzhQ2Ys",
        "outputId": "20213c2f-3f83-4ba6-e9a1-cdd86b9c11bd"
      },
      "execution_count": null,
      "outputs": [
        {
          "output_type": "execute_result",
          "data": {
            "text/plain": [
              "4"
            ]
          },
          "metadata": {},
          "execution_count": 54
        }
      ]
    },
    {
      "cell_type": "code",
      "source": [
        "hello = 'Hello, world!'\n",
        "hello[7]"
      ],
      "metadata": {
        "colab": {
          "base_uri": "https://localhost:8080/",
          "height": 35
        },
        "id": "0wHDGzdRQ6Ks",
        "outputId": "a62cfc87-65a4-463e-d6fe-4da080a372e2"
      },
      "execution_count": null,
      "outputs": [
        {
          "output_type": "execute_result",
          "data": {
            "text/plain": [
              "'w'"
            ],
            "application/vnd.google.colaboratory.intrinsic+json": {
              "type": "string"
            }
          },
          "metadata": {},
          "execution_count": 55
        }
      ]
    },
    {
      "cell_type": "code",
      "source": [
        "a[-1]"
      ],
      "metadata": {
        "colab": {
          "base_uri": "https://localhost:8080/"
        },
        "id": "yEwkWqR5Q-at",
        "outputId": "4ae9c6a6-75a4-4313-8bda-626f39f0b12e"
      },
      "execution_count": null,
      "outputs": [
        {
          "output_type": "execute_result",
          "data": {
            "text/plain": [
              "19"
            ]
          },
          "metadata": {},
          "execution_count": 56
        }
      ]
    },
    {
      "cell_type": "code",
      "source": [
        "a = [38, 21, 53, 62, 19]\n",
        "len(a)"
      ],
      "metadata": {
        "colab": {
          "base_uri": "https://localhost:8080/"
        },
        "id": "8ADKMS15RCsL",
        "outputId": "fc5bb717-625c-4eca-f0c9-e7056210c97d"
      },
      "execution_count": null,
      "outputs": [
        {
          "output_type": "execute_result",
          "data": {
            "text/plain": [
              "5"
            ]
          },
          "metadata": {},
          "execution_count": 57
        }
      ]
    },
    {
      "cell_type": "code",
      "source": [
        "a = [0, 10, 20, 30, 40, 50, 60, 70, 80, 90]\n",
        "print(a[0:4])\n",
        "print(a[4:-1])\n",
        "print(a[2:8:3])\n",
        "print(a[7::2] ) # 인덱스 7부터 2씩 증가시키면서 리스트의 마지막 요소까지 가져옴\n",
        "print(a[::2]) # 리스트 전체에서 인덱스 0부터 2씩 증가시키면서 요소를 가져옴\n",
        "a[0:len(a)] # 시작 인덱스에 0, 끝 인덱스에 len(a) 지정하여 리스트 전체를 가져옴"
      ],
      "metadata": {
        "colab": {
          "base_uri": "https://localhost:8080/"
        },
        "id": "mIPapnKSRIXY",
        "outputId": "ca7836c8-6c9f-410e-9dba-a659a77401de"
      },
      "execution_count": null,
      "outputs": [
        {
          "output_type": "stream",
          "name": "stdout",
          "text": [
            "[0, 10, 20, 30]\n",
            "[40, 50, 60, 70, 80]\n",
            "[20, 50]\n",
            "[70, 90]\n",
            "[0, 20, 40, 60, 80]\n"
          ]
        },
        {
          "output_type": "execute_result",
          "data": {
            "text/plain": [
              "[0, 10, 20, 30, 40, 50, 60, 70, 80, 90]"
            ]
          },
          "metadata": {},
          "execution_count": 64
        }
      ]
    },
    {
      "cell_type": "code",
      "source": [
        "b = (0, 10, 20, 30, 40, 50, 60, 70, 80, 90)\n",
        "print(b[4:7])\n",
        "print(b[:7:2])"
      ],
      "metadata": {
        "colab": {
          "base_uri": "https://localhost:8080/"
        },
        "id": "FSJFdhBURPdN",
        "outputId": "66b2a5d7-962d-4892-bc0d-2d7b366b9060"
      },
      "execution_count": null,
      "outputs": [
        {
          "output_type": "stream",
          "name": "stdout",
          "text": [
            "(40, 50, 60)\n",
            "(0, 20, 40, 60)\n"
          ]
        }
      ]
    },
    {
      "cell_type": "code",
      "source": [
        "a = [0, 10, 20, 30, 40, 50, 60, 70, 80, 90]\n",
        "a[2:5] = ['a', 'b', 'c'] \n",
        "a"
      ],
      "metadata": {
        "colab": {
          "base_uri": "https://localhost:8080/"
        },
        "id": "kbKYRtDXR6hQ",
        "outputId": "69108961-4957-4075-8ee0-7b323b51233c"
      },
      "execution_count": null,
      "outputs": [
        {
          "output_type": "execute_result",
          "data": {
            "text/plain": [
              "[0, 10, 'a', 'b', 'c', 50, 60, 70, 80, 90]"
            ]
          },
          "metadata": {},
          "execution_count": 71
        }
      ]
    },
    {
      "cell_type": "code",
      "source": [
        "a = [0, 10, 20, 30, 40, 50, 60, 70, 80, 90]\n",
        "a[2:5] = ['a']    # 인덱스 2부터 4까지에 값 1개를 할당하여 요소의 개수가 줄어듦\n",
        "a"
      ],
      "metadata": {
        "colab": {
          "base_uri": "https://localhost:8080/"
        },
        "id": "mHIEX1JUR9S-",
        "outputId": "6b751f12-6d31-40f9-dbd4-a7f90ed82940"
      },
      "execution_count": null,
      "outputs": [
        {
          "output_type": "execute_result",
          "data": {
            "text/plain": [
              "[0, 10, 'a', 50, 60, 70, 80, 90]"
            ]
          },
          "metadata": {},
          "execution_count": 69
        }
      ]
    },
    {
      "cell_type": "code",
      "source": [
        "a = [0, 10, 20, 30, 40, 50, 60, 70, 80, 90]\n",
        "a[2:8:2] = ['a', 'b', 'c']    # 인덱스 2부터 2씩 증가시키면서 인덱스 7까지 값 할당\n",
        "a"
      ],
      "metadata": {
        "colab": {
          "base_uri": "https://localhost:8080/"
        },
        "id": "PC8dlCgvSNUz",
        "outputId": "2ba90efa-9b66-47fe-eb5f-4ba9e2308577"
      },
      "execution_count": null,
      "outputs": [
        {
          "output_type": "execute_result",
          "data": {
            "text/plain": [
              "[0, 10, 'a', 30, 'b', 50, 'c', 70, 80, 90]"
            ]
          },
          "metadata": {},
          "execution_count": 70
        }
      ]
    },
    {
      "cell_type": "code",
      "source": [
        "del a[2:5]\n",
        "a"
      ],
      "metadata": {
        "colab": {
          "base_uri": "https://localhost:8080/"
        },
        "id": "dG6cTUTiSXOq",
        "outputId": "48cf4d9f-3e89-4bd1-8887-75836f37e0fc"
      },
      "execution_count": null,
      "outputs": [
        {
          "output_type": "execute_result",
          "data": {
            "text/plain": [
              "[0, 10, 50, 60, 70, 80, 90]"
            ]
          },
          "metadata": {},
          "execution_count": 72
        }
      ]
    },
    {
      "cell_type": "code",
      "source": [
        "a = [0, 10, 20, 30, 40, 50, 60, 70, 80, 90]\n",
        "del a[2:8:2]   \n",
        "a"
      ],
      "metadata": {
        "colab": {
          "base_uri": "https://localhost:8080/"
        },
        "id": "r_A4OnKGSbwF",
        "outputId": "bce7bbe4-e0ed-42ca-fdc0-deaf69f9572a"
      },
      "execution_count": null,
      "outputs": [
        {
          "output_type": "execute_result",
          "data": {
            "text/plain": [
              "[0, 10, 30, 50, 70, 80, 90]"
            ]
          },
          "metadata": {},
          "execution_count": 74
        }
      ]
    },
    {
      "cell_type": "code",
      "source": [
        "year = [2011, 2012, 2013, 2014, 2015, 2016, 2017, 2018]\n",
        "population = [10249679, 10195318, 10143645, 10103233, 10022181, 9930616, 9857426, 9838892]\n",
        " \n",
        "print(year[-3:])\n",
        "print(population[-3:])"
      ],
      "metadata": {
        "colab": {
          "base_uri": "https://localhost:8080/"
        },
        "id": "fh7kWegwSfO_",
        "outputId": "e55c533c-f0bf-42b5-ba85-67e4d6295ca2"
      },
      "execution_count": null,
      "outputs": [
        {
          "output_type": "stream",
          "name": "stdout",
          "text": [
            "[2016, 2017, 2018]\n",
            "[9930616, 9857426, 9838892]\n"
          ]
        }
      ]
    },
    {
      "cell_type": "code",
      "source": [
        "n = -32, 75, 97, -10, 9, 32, 4, -15, 0, 76, 14, 2\n",
        " \n",
        "print(n[1::2])"
      ],
      "metadata": {
        "colab": {
          "base_uri": "https://localhost:8080/"
        },
        "id": "2QZez4LGSpFx",
        "outputId": "b20a469c-d018-4767-a94c-2ffaefba02ef"
      },
      "execution_count": null,
      "outputs": [
        {
          "output_type": "stream",
          "name": "stdout",
          "text": [
            "(75, -10, 32, -15, 76, 2)\n"
          ]
        }
      ]
    },
    {
      "cell_type": "markdown",
      "source": [
        "## unit12"
      ],
      "metadata": {
        "id": "mTXG-iE9SzUj"
      }
    },
    {
      "cell_type": "code",
      "source": [
        "lux = [490, 334, 550, 18.72]\n",
        "lux = {'health': 490, 'mana': 334, 'melee': 550, 'armor': 18.72}\n",
        "lux"
      ],
      "metadata": {
        "colab": {
          "base_uri": "https://localhost:8080/"
        },
        "id": "mqNK-GQoSun4",
        "outputId": "8247ebeb-2e65-4cc6-f10a-9c6cdc17076b"
      },
      "execution_count": null,
      "outputs": [
        {
          "output_type": "execute_result",
          "data": {
            "text/plain": [
              "{'health': 490, 'mana': 334, 'melee': 550, 'armor': 18.72}"
            ]
          },
          "metadata": {},
          "execution_count": 78
        }
      ]
    },
    {
      "cell_type": "code",
      "source": [
        "lux = {'health': 490, 'health': 800, 'mana': 334, 'melee': 550, 'armor': 18.72}\n",
        "lux['health']\n",
        "lux"
      ],
      "metadata": {
        "colab": {
          "base_uri": "https://localhost:8080/"
        },
        "id": "ZfL7rhU9TKrA",
        "outputId": "2422efd5-8b9e-491c-fc92-b655217e5de7"
      },
      "execution_count": null,
      "outputs": [
        {
          "output_type": "execute_result",
          "data": {
            "text/plain": [
              "{'health': 800, 'mana': 334, 'melee': 550, 'armor': 18.72}"
            ]
          },
          "metadata": {},
          "execution_count": 79
        }
      ]
    },
    {
      "cell_type": "code",
      "source": [
        "x = {[10, 20]: 100} #단 키에는 리스트와 딕셔너리를 사용 불가"
      ],
      "metadata": {
        "colab": {
          "base_uri": "https://localhost:8080/",
          "height": 172
        },
        "id": "VyJLOHJyTUf_",
        "outputId": "300fd6f0-5b63-426c-b9a7-6e5dd161572e"
      },
      "execution_count": null,
      "outputs": [
        {
          "output_type": "error",
          "ename": "TypeError",
          "evalue": "ignored",
          "traceback": [
            "\u001b[0;31m---------------------------------------------------------------------------\u001b[0m",
            "\u001b[0;31mTypeError\u001b[0m                                 Traceback (most recent call last)",
            "\u001b[0;32m<ipython-input-80-d450c3f99d53>\u001b[0m in \u001b[0;36m<module>\u001b[0;34m\u001b[0m\n\u001b[0;32m----> 1\u001b[0;31m \u001b[0mx\u001b[0m \u001b[0;34m=\u001b[0m \u001b[0;34m{\u001b[0m\u001b[0;34m[\u001b[0m\u001b[0;36m10\u001b[0m\u001b[0;34m,\u001b[0m \u001b[0;36m20\u001b[0m\u001b[0;34m]\u001b[0m\u001b[0;34m:\u001b[0m \u001b[0;36m100\u001b[0m\u001b[0;34m}\u001b[0m \u001b[0;31m#단 키에는 리스트와 딕셔너리를 사용 불가\u001b[0m\u001b[0;34m\u001b[0m\u001b[0;34m\u001b[0m\u001b[0m\n\u001b[0m",
            "\u001b[0;31mTypeError\u001b[0m: unhashable type: 'list'"
          ]
        }
      ]
    },
    {
      "cell_type": "code",
      "source": [
        "x={}\n",
        "x\n",
        "y=dict()\n",
        "y"
      ],
      "metadata": {
        "colab": {
          "base_uri": "https://localhost:8080/"
        },
        "id": "vKoloV3rTfci",
        "outputId": "729f3d61-9701-4289-d66c-4a785529f579"
      },
      "execution_count": null,
      "outputs": [
        {
          "output_type": "execute_result",
          "data": {
            "text/plain": [
              "{}"
            ]
          },
          "metadata": {},
          "execution_count": 81
        }
      ]
    },
    {
      "cell_type": "code",
      "source": [
        "lux2 = dict(zip(['health', 'mana', 'melee', 'armor'], [490, 334, 550, 18.72]))\n",
        "lux2"
      ],
      "metadata": {
        "colab": {
          "base_uri": "https://localhost:8080/"
        },
        "id": "VqtkRXiKTlKY",
        "outputId": "ddcc27a1-3ff2-4bef-d713-c48d9606fdaa"
      },
      "execution_count": null,
      "outputs": [
        {
          "output_type": "execute_result",
          "data": {
            "text/plain": [
              "{'health': 490, 'mana': 334, 'melee': 550, 'armor': 18.72}"
            ]
          },
          "metadata": {},
          "execution_count": 82
        }
      ]
    },
    {
      "cell_type": "code",
      "source": [
        "lux3 = dict([('health', 490), ('mana', 334), ('melee', 550), ('armor', 18.72)])\n",
        "lux3  "
      ],
      "metadata": {
        "colab": {
          "base_uri": "https://localhost:8080/"
        },
        "id": "I4_3MJWkTqPK",
        "outputId": "80a8f230-e6a5-4f11-eec2-82455c548f8d"
      },
      "execution_count": null,
      "outputs": [
        {
          "output_type": "execute_result",
          "data": {
            "text/plain": [
              "{'health': 490, 'mana': 334, 'melee': 550, 'armor': 18.72}"
            ]
          },
          "metadata": {},
          "execution_count": 83
        }
      ]
    },
    {
      "cell_type": "code",
      "source": [
        "lux4 = dict({'health': 490, 'mana': 334, 'melee': 550, 'armor': 18.72})     # dict 안에서\n",
        "lux4  "
      ],
      "metadata": {
        "colab": {
          "base_uri": "https://localhost:8080/"
        },
        "id": "c2EvxOycTtd1",
        "outputId": "97a91d0d-8a0b-4ed5-8336-13ba7324c72f"
      },
      "execution_count": null,
      "outputs": [
        {
          "output_type": "execute_result",
          "data": {
            "text/plain": [
              "{'health': 490, 'mana': 334, 'melee': 550, 'armor': 18.72}"
            ]
          },
          "metadata": {},
          "execution_count": 84
        }
      ]
    },
    {
      "cell_type": "code",
      "source": [
        "lux = {'health': 490, 'mana': 334, 'melee': 550, 'armor': 18.72}\n",
        "print('health' in lux)\n",
        "print('attack_speed' in lux)\n",
        "print('attack_speed' not in lux)\n",
        "len(lux)"
      ],
      "metadata": {
        "colab": {
          "base_uri": "https://localhost:8080/"
        },
        "id": "4MUJLoy7T0aC",
        "outputId": "a48ef113-b3af-4039-8d3f-e8555585c8d0"
      },
      "execution_count": null,
      "outputs": [
        {
          "output_type": "stream",
          "name": "stdout",
          "text": [
            "True\n",
            "False\n",
            "True\n"
          ]
        },
        {
          "output_type": "execute_result",
          "data": {
            "text/plain": [
              "4"
            ]
          },
          "metadata": {},
          "execution_count": 89
        }
      ]
    },
    {
      "cell_type": "code",
      "source": [
        "camille = {\n",
        "    'health': 575.6,\n",
        "    'health_regen': 1.7,\n",
        "    'mana': 338.8,\n",
        "    'mana_regen': 1.63,\n",
        "    'melee': 125,\n",
        "    'attack_damage': 60,\n",
        "    'attack_speed': 0.625,\n",
        "    'armor': 26,\n",
        "    'magic_resistance': 32.1,\n",
        "    'movement_speed': 340\n",
        "}\n",
        " \n",
        "print(camille['health'])\n",
        "print(camille['movement_speed'])"
      ],
      "metadata": {
        "colab": {
          "base_uri": "https://localhost:8080/"
        },
        "id": "yo5zDB3xT8HX",
        "outputId": "0d5b919e-7265-44db-bf97-c55d2fcab065"
      },
      "execution_count": null,
      "outputs": [
        {
          "output_type": "stream",
          "name": "stdout",
          "text": [
            "575.6\n",
            "340\n"
          ]
        }
      ]
    },
    {
      "cell_type": "markdown",
      "source": [
        "### unit13"
      ],
      "metadata": {
        "id": "g7dHblypUPzq"
      }
    },
    {
      "cell_type": "code",
      "source": [],
      "metadata": {
        "id": "00BKoMEPUOHr"
      },
      "execution_count": null,
      "outputs": []
    }
  ]
}